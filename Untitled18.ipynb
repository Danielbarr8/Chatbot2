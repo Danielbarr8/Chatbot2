{
  "nbformat": 4,
  "nbformat_minor": 0,
  "metadata": {
    "colab": {
      "provenance": [],
      "authorship_tag": "ABX9TyOQEe9RLqZOuHade3vCBDqi",
      "include_colab_link": true
    },
    "kernelspec": {
      "name": "python3",
      "display_name": "Python 3"
    },
    "language_info": {
      "name": "python"
    }
  },
  "cells": [
    {
      "cell_type": "markdown",
      "metadata": {
        "id": "view-in-github",
        "colab_type": "text"
      },
      "source": [
        "<a href=\"https://colab.research.google.com/github/Danielbarr8/Chatbot2/blob/main/Untitled18.ipynb\" target=\"_parent\"><img src=\"https://colab.research.google.com/assets/colab-badge.svg\" alt=\"Open In Colab\"/></a>"
      ]
    },
    {
      "cell_type": "code",
      "execution_count": 1,
      "metadata": {
        "colab": {
          "base_uri": "https://localhost:8080/"
        },
        "id": "yWEKDPX4vDFP",
        "outputId": "f6f2a91f-4f7f-467a-de81-fa3e2d82c691"
      },
      "outputs": [
        {
          "output_type": "stream",
          "name": "stdout",
          "text": [
            "Hi, I'm the Chatbot. Type 'quit' to exit.\n",
            ">quit\n",
            "Goodbye! Have a nice day.\n"
          ]
        }
      ],
      "source": [
        "import numpy as np\n",
        "import pandas as pd\n",
        "import matplotlib.pyplot as plt\n",
        "from statsmodels.tsa.statespace.sarimax import SARIMAX\n",
        "from statsmodels.tsa.arima.model import ARIMA\n",
        "from statsmodels.tsa.seasonal import seasonal_decompose\n",
        "from statsmodels.tsa.holtwinters import ExponentialSmoothing\n",
        "from nltk.chat.util import Chat, reflections\n",
        "\n",
        "# Generate Synthetic Data\n",
        "def generate_synthetic_data(start_date, periods):\n",
        "    data = pd.Series(np.random.randn(periods), index=pd.date_range(start=start_date, periods=periods))\n",
        "    return data\n",
        "\n",
        "data = generate_synthetic_data('1/1/2022', 1000)\n",
        "\n",
        "def preprocess_data(data, window_size=5, alpha=0.2):\n",
        "    moving_avg = data.rolling(window=window_size).mean()\n",
        "    exp_smoothing = ExponentialSmoothing(data, alpha=alpha).fit(smoothing_level=alpha, optimized=False).fittedvalues\n",
        "    return moving_avg, exp_smoothing\n",
        "\n",
        "def chatbot():\n",
        "    def process_sarimax_input(user_input):\n",
        "        try:\n",
        "            seasonal_period, train_split = map(int, user_input.split(','))\n",
        "            moving_avg, exp_smoothing = preprocess_data(data)\n",
        "            time_series_forecasting_SARIMAX(exp_smoothing, seasonal_period, train_split)\n",
        "        except ValueError:\n",
        "            print(\"Invalid input format. Please enter the seasonal period and train split as integers separated by a comma.\")\n",
        "\n",
        "    def process_arima_input(user_input):\n",
        "        try:\n",
        "            months = int(user_input)\n",
        "            if months <= 12:\n",
        "                moving_avg, exp_smoothing = preprocess_data(data)\n",
        "                time_series_forecasting_ARIMA(exp_smoothing, months)\n",
        "            else:\n",
        "                print(\"Please enter a number of months up to 12.\")\n",
        "        except ValueError:\n",
        "            print(\"Invalid input format. Please enter the number of months as an integer.\")\n",
        "\n",
        "    pairs = [\n",
        "        [\n",
        "            r\"hi|hello|hey\",\n",
        "            [\"Hello!\", \"Hi there!\", \"Hey! How can I help you?\"]\n",
        "        ],\n",
        "        [\n",
        "            r\"how are you?\",\n",
        "            [\"I'm doing well, thank you!\", \"I'm great! How about you?\"]\n",
        "        ],\n",
        "        [\n",
        "            r\"(.*) your name?\",\n",
        "            [\"My name is Chatbot, nice to meet you!\"]\n",
        "        ],\n",
        "        [\n",
        "            r\"forecast SARIMAX|predict SARIMAX|predict with SARIMAX\",\n",
        "            [process_sarimax_input]\n",
        "        ],\n",
        "        [\n",
        "            r\"forecast ARIMA|predict ARIMA|predict with ARIMA\",\n",
        "            [process_arima_input]\n",
        "        ],\n",
        "        [\n",
        "            r\"quit\",\n",
        "            [\"Goodbye! Have a nice day.\"]\n",
        "        ],\n",
        "    ]\n",
        "\n",
        "    print(\"Hi, I'm the Chatbot. Type 'quit' to exit.\")\n",
        "    chat = Chat(pairs, reflections)\n",
        "    chat.converse()\n",
        "\n",
        "chatbot()"
      ]
    }
  ]
}